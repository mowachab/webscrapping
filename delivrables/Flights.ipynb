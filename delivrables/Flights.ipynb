{
 "cells": [
  {
   "cell_type": "code",
   "execution_count": 4,
   "id": "c3870dfe-6946-4c76-8ad9-6a9eae8f6e85",
   "metadata": {},
   "outputs": [
    {
     "name": "stdout",
     "output_type": "stream",
     "text": [
      "  Passenger ID First Name Last Name  Gender  Age Nationality  \\\n",
      "0       ABVWIg     Edithe    Leggis  Female   62       Japan   \n",
      "1       jkXXAX     Elwood      Catt    Male   62   Nicaragua   \n",
      "2       CdUz2g      Darby   Felgate    Male   67      Russia   \n",
      "3       BRS38V   Dominica      Pyle  Female   71       China   \n",
      "4       9kvTLo        Bay   Pencost    Male   21       China   \n",
      "\n",
      "                Airport Name Airport Country Code   Country Name  \\\n",
      "0           Coldfoot Airport                   US  United States   \n",
      "1          Kugluktuk Airport                   CA         Canada   \n",
      "2     Grenoble-Isère Airport                   FR         France   \n",
      "3  Ottawa / Gatineau Airport                   CA         Canada   \n",
      "4            Gillespie Field                   US  United States   \n",
      "\n",
      "  Airport Continent     Continents Departure Date Arrival Airport  \\\n",
      "0               NAM  North America      6/28/2022             CXF   \n",
      "1               NAM  North America     12/26/2022             YCO   \n",
      "2                EU         Europe      1/18/2022             GNB   \n",
      "3               NAM  North America      9/16/2022             YND   \n",
      "4               NAM  North America      2/25/2022             SEE   \n",
      "\n",
      "            Pilot Name Flight Status  \n",
      "0  Fransisco Hazeldine       On Time  \n",
      "1      Marla Parsonage       On Time  \n",
      "2         Rhonda Amber       On Time  \n",
      "3       Kacie Commucci       Delayed  \n",
      "4          Ebonee Tree       On Time  \n"
     ]
    }
   ],
   "source": [
    "import pandas as pd\n",
    "file_path = r\"C:\\Users\\Benomar\\Downloads\\Aairline dataset\\Airline Dataset Updated - v2.csv\"\n",
    "\n",
    "# Load the CSV file into a DataFrame\n",
    "df = pd.read_csv(file_path)\n",
    "\n",
    "# Display the first few rows of the dataset\n",
    "print(df.head())"
   ]
  },
  {
   "cell_type": "code",
   "execution_count": 6,
   "id": "b761e255-1d1d-42af-a756-98120458851d",
   "metadata": {},
   "outputs": [
    {
     "name": "stdout",
     "output_type": "stream",
     "text": [
      "Index(['Passenger ID', 'First Name', 'Last Name', 'Gender', 'Age',\n",
      "       'Nationality', 'Airport Name', 'Airport Country Code', 'Country Name',\n",
      "       'Airport Continent', 'Continents', 'Departure Date', 'Arrival Airport',\n",
      "       'Pilot Name', 'Flight Status'],\n",
      "      dtype='object')\n",
      "<class 'pandas.core.frame.DataFrame'>\n",
      "RangeIndex: 98619 entries, 0 to 98618\n",
      "Data columns (total 15 columns):\n",
      " #   Column                Non-Null Count  Dtype \n",
      "---  ------                --------------  ----- \n",
      " 0   Passenger ID          98619 non-null  object\n",
      " 1   First Name            98619 non-null  object\n",
      " 2   Last Name             98619 non-null  object\n",
      " 3   Gender                98619 non-null  object\n",
      " 4   Age                   98619 non-null  int64 \n",
      " 5   Nationality           98619 non-null  object\n",
      " 6   Airport Name          98619 non-null  object\n",
      " 7   Airport Country Code  98619 non-null  object\n",
      " 8   Country Name          98619 non-null  object\n",
      " 9   Airport Continent     98619 non-null  object\n",
      " 10  Continents            98619 non-null  object\n",
      " 11  Departure Date        98619 non-null  object\n",
      " 12  Arrival Airport       98619 non-null  object\n",
      " 13  Pilot Name            98619 non-null  object\n",
      " 14  Flight Status         98619 non-null  object\n",
      "dtypes: int64(1), object(14)\n",
      "memory usage: 11.3+ MB\n",
      "None\n",
      "  Passenger ID First Name Last Name  Gender  Age Nationality  \\\n",
      "0       ABVWIg     Edithe    Leggis  Female   62       Japan   \n",
      "1       jkXXAX     Elwood      Catt    Male   62   Nicaragua   \n",
      "2       CdUz2g      Darby   Felgate    Male   67      Russia   \n",
      "3       BRS38V   Dominica      Pyle  Female   71       China   \n",
      "4       9kvTLo        Bay   Pencost    Male   21       China   \n",
      "\n",
      "                Airport Name Airport Country Code   Country Name  \\\n",
      "0           Coldfoot Airport                   US  United States   \n",
      "1          Kugluktuk Airport                   CA         Canada   \n",
      "2     Grenoble-Isère Airport                   FR         France   \n",
      "3  Ottawa / Gatineau Airport                   CA         Canada   \n",
      "4            Gillespie Field                   US  United States   \n",
      "\n",
      "  Airport Continent     Continents Departure Date Arrival Airport  \\\n",
      "0               NAM  North America      6/28/2022             CXF   \n",
      "1               NAM  North America     12/26/2022             YCO   \n",
      "2                EU         Europe      1/18/2022             GNB   \n",
      "3               NAM  North America      9/16/2022             YND   \n",
      "4               NAM  North America      2/25/2022             SEE   \n",
      "\n",
      "            Pilot Name Flight Status  \n",
      "0  Fransisco Hazeldine       On Time  \n",
      "1      Marla Parsonage       On Time  \n",
      "2         Rhonda Amber       On Time  \n",
      "3       Kacie Commucci       Delayed  \n",
      "4          Ebonee Tree       On Time  \n"
     ]
    }
   ],
   "source": [
    "# Remove duplicates\n",
    "df = df.drop_duplicates()\n",
    "\n",
    "# Inspect column names to ensure they exist\n",
    "print(df.columns)\n",
    "\n",
    "# Handle missing values (update column names as needed)\n",
    "if 'column_name' in df.columns:\n",
    "    df['column_name'] = df['column_name'].fillna(df['column_name'].mean())\n",
    "\n",
    "if 'required_column' in df.columns:\n",
    "    df = df.dropna(subset=['required_column'])  # Drop rows with missing values in critical columns\n",
    "\n",
    "# Standardize data formats (update column names as needed)\n",
    "if 'date_column' in df.columns:\n",
    "    df['date_column'] = pd.to_datetime(df['date_column'], errors='coerce')\n",
    "\n",
    "if 'text_column' in df.columns:\n",
    "    df['text_column'] = df['text_column'].str.lower()\n",
    "\n",
    "# Verify the cleaned data\n",
    "print(df.info())\n",
    "print(df.head())\n"
   ]
  },
  {
   "cell_type": "code",
   "execution_count": 10,
   "id": "69483320-e160-4963-a938-f8d4c5f76589",
   "metadata": {},
   "outputs": [
    {
     "name": "stdout",
     "output_type": "stream",
     "text": [
      "  Passenger ID First Name Last Name  Gender  Age Nationality  \\\n",
      "0       ABVWIg     Edithe    Leggis  Female   62       Japan   \n",
      "1       jkXXAX     Elwood      Catt    Male   62   Nicaragua   \n",
      "2       CdUz2g      Darby   Felgate    Male   67      Russia   \n",
      "3       BRS38V   Dominica      Pyle  Female   71       China   \n",
      "4       9kvTLo        Bay   Pencost    Male   21       China   \n",
      "\n",
      "                Airport Name Airport Country Code   Country Name  \\\n",
      "0           Coldfoot Airport                   US  United States   \n",
      "1          Kugluktuk Airport                   CA         Canada   \n",
      "2     Grenoble-Isère Airport                   FR         France   \n",
      "3  Ottawa / Gatineau Airport                   CA         Canada   \n",
      "4            Gillespie Field                   US  United States   \n",
      "\n",
      "  Airport Continent     Continents Departure Date Arrival Airport  \\\n",
      "0               NAM  North America      6/28/2022             CXF   \n",
      "1               NAM  North America     12/26/2022             YCO   \n",
      "2                EU         Europe      1/18/2022             GNB   \n",
      "3               NAM  North America      9/16/2022             YND   \n",
      "4               NAM  North America      2/25/2022             SEE   \n",
      "\n",
      "            Pilot Name Flight Status  \n",
      "0  Fransisco Hazeldine       On Time  \n",
      "1      Marla Parsonage       On Time  \n",
      "2         Rhonda Amber       On Time  \n",
      "3       Kacie Commucci       Delayed  \n",
      "4          Ebonee Tree       On Time  \n"
     ]
    }
   ],
   "source": [
    "print(df.head())"
   ]
  },
  {
   "cell_type": "code",
   "execution_count": 1,
   "id": "5eac759b-ad1f-4559-b02b-23f593dc60f0",
   "metadata": {},
   "outputs": [
    {
     "name": "stdout",
     "output_type": "stream",
     "text": [
      "Empty DataFrame\n",
      "Columns: [Airport Name, Country]\n",
      "Index: []\n"
     ]
    }
   ],
   "source": [
    "import requests\n",
    "from bs4 import BeautifulSoup\n",
    "import pandas as pd\n",
    "\n",
    "# Scraping airport information\n",
    "url = \"https://openflights.org/html/airports.html\"\n",
    "response = requests.get(url)\n",
    "soup = BeautifulSoup(response.content, 'html.parser')\n",
    "\n",
    "# Extract relevant data (modify this based on the structure of the website)\n",
    "airports = []\n",
    "for row in soup.find_all('tr')[1:]:\n",
    "    columns = row.find_all('td')\n",
    "    airport_name = columns[1].text\n",
    "    country = columns[3].text\n",
    "    airports.append([airport_name, country])\n",
    "\n",
    "# Create a DataFrame\n",
    "airport_df = pd.DataFrame(airports, columns=['Airport Name', 'Country'])\n",
    "\n",
    "print(airport_df.head())\n"
   ]
  },
  {
   "cell_type": "code",
   "execution_count": 5,
   "id": "82c1540c-9f97-4af6-b867-46700c282083",
   "metadata": {},
   "outputs": [
    {
     "name": "stdout",
     "output_type": "stream",
     "text": [
      "Failed to fetch the page. Status code: 404\n"
     ]
    }
   ],
   "source": [
    "import requests\n",
    "from bs4 import BeautifulSoup\n",
    "import pandas as pd\n",
    "\n",
    "# Example: Scraping airport information\n",
    "url = \"https://openflights.org/html/airports.html\"\n",
    "response = requests.get(url)\n",
    "\n",
    "# Check if the page was fetched successfully\n",
    "if response.status_code == 200:\n",
    "    soup = BeautifulSoup(response.content, 'html.parser')\n",
    "\n",
    "    # Locate the table containing the data\n",
    "    table = soup.find('table')  # Adjust the selector if necessary\n",
    "\n",
    "    # Extract rows from the table\n",
    "    airports = []\n",
    "    if table:\n",
    "        for row in table.find_all('tr')[1:]:  # Skip header row\n",
    "            columns = row.find_all('td')\n",
    "            if columns:\n",
    "                airport_name = columns[1].text.strip()\n",
    "                country = columns[3].text.strip()\n",
    "                airports.append([airport_name, country])\n",
    "\n",
    "    # Create a DataFrame\n",
    "    airport_df = pd.DataFrame(airports, columns=['Airport Name', 'Country'])\n",
    "\n",
    "    # Print the DataFrame\n",
    "    print(airport_df.head())\n",
    "else:\n",
    "    print(f\"Failed to fetch the page. Status code: {response.status_code}\")\n"
   ]
  },
  {
   "cell_type": "code",
   "execution_count": 12,
   "id": "66943469-dc02-4a3f-abea-bb1af816f788",
   "metadata": {},
   "outputs": [
    {
     "name": "stdout",
     "output_type": "stream",
     "text": [
      "Requirement already satisfied: requests in c:\\users\\benomar\\anaconda3\\lib\\site-packages (2.32.2)\n",
      "Requirement already satisfied: beautifulsoup4 in c:\\users\\benomar\\anaconda3\\lib\\site-packages (4.12.3)\n",
      "Requirement already satisfied: pandas in c:\\users\\benomar\\anaconda3\\lib\\site-packages (2.2.2)\n",
      "Requirement already satisfied: charset-normalizer<4,>=2 in c:\\users\\benomar\\anaconda3\\lib\\site-packages (from requests) (2.0.4)\n",
      "Requirement already satisfied: idna<4,>=2.5 in c:\\users\\benomar\\anaconda3\\lib\\site-packages (from requests) (3.7)\n",
      "Requirement already satisfied: urllib3<3,>=1.21.1 in c:\\users\\benomar\\anaconda3\\lib\\site-packages (from requests) (2.2.2)\n",
      "Requirement already satisfied: certifi>=2017.4.17 in c:\\users\\benomar\\anaconda3\\lib\\site-packages (from requests) (2024.8.30)\n",
      "Requirement already satisfied: soupsieve>1.2 in c:\\users\\benomar\\anaconda3\\lib\\site-packages (from beautifulsoup4) (2.5)\n",
      "Requirement already satisfied: numpy>=1.26.0 in c:\\users\\benomar\\anaconda3\\lib\\site-packages (from pandas) (1.26.4)\n",
      "Requirement already satisfied: python-dateutil>=2.8.2 in c:\\users\\benomar\\anaconda3\\lib\\site-packages (from pandas) (2.9.0.post0)\n",
      "Requirement already satisfied: pytz>=2020.1 in c:\\users\\benomar\\anaconda3\\lib\\site-packages (from pandas) (2024.1)\n",
      "Requirement already satisfied: tzdata>=2022.7 in c:\\users\\benomar\\anaconda3\\lib\\site-packages (from pandas) (2023.3)\n",
      "Requirement already satisfied: six>=1.5 in c:\\users\\benomar\\anaconda3\\lib\\site-packages (from python-dateutil>=2.8.2->pandas) (1.16.0)\n",
      "Note: you may need to restart the kernel to use updated packages.\n"
     ]
    }
   ],
   "source": [
    "pip install requests beautifulsoup4 pandas\n"
   ]
  },
  {
   "cell_type": "code",
   "execution_count": 14,
   "id": "2dcc5073-a0f8-4da0-8641-9b0c1537a3b6",
   "metadata": {},
   "outputs": [
    {
     "name": "stdout",
     "output_type": "stream",
     "text": [
      "  IATA Code Airport Name                                   Location\n",
      "0       AAA         NTGA                               Anaa Airport\n",
      "1       AAB         YARY                           Arrabury Airport\n",
      "2       AAC         HEAR             El Arish International Airport\n",
      "3       AAD         HCAD                              Adado Airport\n",
      "4       AAE         DABB  Rabah Bitat Airport (Les Salines Airport)\n"
     ]
    }
   ],
   "source": [
    "import requests\n",
    "from bs4 import BeautifulSoup\n",
    "import pandas as pd\n",
    "\n",
    "# URL of the Wikipedia page with airport data\n",
    "url = \"https://en.wikipedia.org/wiki/List_of_airports_by_IATA_code:_A\"\n",
    "\n",
    "# Send a GET request to fetch the page content\n",
    "response = requests.get(url)\n",
    "if response.status_code == 200:\n",
    "    soup = BeautifulSoup(response.content, \"html.parser\")\n",
    "    \n",
    "    # Locate the table in the Wikipedia page\n",
    "    table = soup.find(\"table\", {\"class\": \"wikitable\"})\n",
    "    \n",
    "    # Extract table rows\n",
    "    rows = table.find_all(\"tr\")[1:]  # Skip the header row\n",
    "    \n",
    "    # Parse data into a list of dictionaries\n",
    "    data = []\n",
    "    for row in rows:\n",
    "        columns = row.find_all(\"td\")\n",
    "        if len(columns) >= 3:  # Check if the row has enough columns\n",
    "            iata_code = columns[0].text.strip()\n",
    "            airport_name = columns[1].text.strip()\n",
    "            location = columns[2].text.strip()\n",
    "            data.append({\"IATA Code\": iata_code, \"Airport Name\": airport_name, \"Location\": location})\n",
    "    \n",
    "    # Convert to a DataFrame\n",
    "    airports_df = pd.DataFrame(data)\n",
    "    print(airports_df.head())  # Display first few rows\n",
    "    \n",
    "    # Save to CSV if needed\n",
    "    airports_df.to_csv(\"airports_scraped.csv\", index=False)\n",
    "else:\n",
    "    print(f\"Failed to fetch the page. Status code: {response.status_code}\")\n"
   ]
  },
  {
   "cell_type": "code",
   "execution_count": 24,
   "id": "ba1a7a44-5218-4ea5-929e-6b1bb048141f",
   "metadata": {},
   "outputs": [],
   "source": [
    "your_dataset = pd.read_csv(\"C:/Users/Benomar/Downloads/Aairline dataset/Airline Dataset Updated - v2.csv\")\n"
   ]
  },
  {
   "cell_type": "code",
   "execution_count": 26,
   "id": "517affc5-b47b-420e-aa53-040087b53567",
   "metadata": {},
   "outputs": [
    {
     "name": "stdout",
     "output_type": "stream",
     "text": [
      "       Country                              Visa Requirement\n",
      "0  Afghanistan                        Visa required[3][4][5]\n",
      "1      Albania                         Visa not required[10]\n",
      "2      Algeria  Visa required/Conditional Visa Exemption[11]\n",
      "3      Andorra                         Visa not required[12]\n",
      "4       Angola                     Visa not required[15][16]\n"
     ]
    }
   ],
   "source": [
    "url = \"https://en.wikipedia.org/wiki/Visa_requirements_for_United_States_citizens\"\n",
    "response = requests.get(url)\n",
    "soup = BeautifulSoup(response.content, \"html.parser\")\n",
    "table = soup.find(\"table\", {\"class\": \"wikitable\"})\n",
    "\n",
    "data = []\n",
    "rows = table.find_all(\"tr\")[1:]  # Skip the header\n",
    "for row in rows:\n",
    "    columns = row.find_all(\"td\")\n",
    "    if len(columns) > 1:\n",
    "        country = columns[0].text.strip()\n",
    "        requirement = columns[1].text.strip()\n",
    "        data.append({\"Country\": country, \"Visa Requirement\": requirement})\n",
    "\n",
    "visa_df = pd.DataFrame(data)\n",
    "print(visa_df.head())\n"
   ]
  },
  {
   "cell_type": "code",
   "execution_count": 28,
   "id": "e8a1b631-758c-4cbb-ba8c-21c7ed7fe67c",
   "metadata": {},
   "outputs": [],
   "source": [
    "enriched_dataset = your_dataset.merge(\n",
    "    airports_df, left_on=\"Arrival Airport\", right_on=\"IATA Code\", how=\"left\"\n",
    ")\n"
   ]
  },
  {
   "cell_type": "code",
   "execution_count": 30,
   "id": "67416fa1-c72c-471a-8649-c7097679996e",
   "metadata": {},
   "outputs": [],
   "source": [
    "enriched_dataset.to_csv(\"enriched_dataset.csv\", index=False)\n"
   ]
  },
  {
   "cell_type": "code",
   "execution_count": 32,
   "id": "f0222ff6-1c80-4531-a743-cddd1adf3d28",
   "metadata": {},
   "outputs": [
    {
     "name": "stdout",
     "output_type": "stream",
     "text": [
      "  Passenger ID First Name Last Name  Gender  Age Nationality  \\\n",
      "0       ABVWIg     Edithe    Leggis  Female   62       Japan   \n",
      "1       jkXXAX     Elwood      Catt    Male   62   Nicaragua   \n",
      "2       CdUz2g      Darby   Felgate    Male   67      Russia   \n",
      "3       BRS38V   Dominica      Pyle  Female   71       China   \n",
      "4       9kvTLo        Bay   Pencost    Male   21       China   \n",
      "\n",
      "                Airport Name Airport Country Code   Country Name  \\\n",
      "0           Coldfoot Airport                   US  United States   \n",
      "1          Kugluktuk Airport                   CA         Canada   \n",
      "2     Grenoble-Isère Airport                   FR         France   \n",
      "3  Ottawa / Gatineau Airport                   CA         Canada   \n",
      "4            Gillespie Field                   US  United States   \n",
      "\n",
      "  Airport Continent     Continents Departure Date Arrival Airport  \\\n",
      "0               NAM  North America      6/28/2022             CXF   \n",
      "1               NAM  North America     12/26/2022             YCO   \n",
      "2                EU         Europe      1/18/2022             GNB   \n",
      "3               NAM  North America      9/16/2022             YND   \n",
      "4               NAM  North America      2/25/2022             SEE   \n",
      "\n",
      "            Pilot Name Flight Status        Country  Passengers  \n",
      "0  Fransisco Hazeldine       On Time  United States     10000.0  \n",
      "1      Marla Parsonage       On Time            NaN         NaN  \n",
      "2         Rhonda Amber       On Time         France     25000.0  \n",
      "3       Kacie Commucci       Delayed            NaN         NaN  \n",
      "4          Ebonee Tree       On Time  United States     15000.0  \n"
     ]
    }
   ],
   "source": [
    "import pandas as pd\n",
    "\n",
    "# Load the original dataset\n",
    "your_dataset = pd.read_csv(r\"C:\\Users\\Benomar\\Downloads\\Aairline dataset\\Airline Dataset Updated - v2.csv\")\n",
    "\n",
    "# Example of an additional dataset (scraped airport details)\n",
    "airport_df = pd.DataFrame({\n",
    "    \"Airport Name\": [\"Coldfoot Airport\", \"Grenoble-Isère Airport\", \"Gillespie Field\"],\n",
    "    \"Country\": [\"United States\", \"France\", \"United States\"],\n",
    "    \"Passengers\": [10000, 25000, 15000]\n",
    "})\n",
    "\n",
    "# Merge datasets on the common column (e.g., \"Airport Name\")\n",
    "merged_dataset = pd.merge(your_dataset, airport_df, on=\"Airport Name\", how=\"left\")\n",
    "\n",
    "# Save the merged dataset to a CSV\n",
    "merged_dataset.to_csv(\"merged_airline_dataset.csv\", index=False)\n",
    "\n",
    "# Display the merged dataset\n",
    "print(merged_dataset.head())\n"
   ]
  },
  {
   "cell_type": "code",
   "execution_count": null,
   "id": "924ce42b-ba90-405a-8fce-68f4658f0e47",
   "metadata": {},
   "outputs": [],
   "source": []
  }
 ],
 "metadata": {
  "kernelspec": {
   "display_name": "Python 3 (ipykernel)",
   "language": "python",
   "name": "python3"
  },
  "language_info": {
   "codemirror_mode": {
    "name": "ipython",
    "version": 3
   },
   "file_extension": ".py",
   "mimetype": "text/x-python",
   "name": "python",
   "nbconvert_exporter": "python",
   "pygments_lexer": "ipython3",
   "version": "3.12.4"
  }
 },
 "nbformat": 4,
 "nbformat_minor": 5
}
